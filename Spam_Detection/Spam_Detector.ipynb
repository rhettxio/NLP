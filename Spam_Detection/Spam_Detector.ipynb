{
  "nbformat": 4,
  "nbformat_minor": 0,
  "metadata": {
    "colab": {
      "name": "Spam Detector.ipynb",
      "provenance": [],
      "toc_visible": true
    },
    "kernelspec": {
      "name": "python3",
      "display_name": "Python 3"
    }
  },
  "cells": [
    {
      "cell_type": "markdown",
      "metadata": {
        "id": "xZXwG6Gwl49k"
      },
      "source": [
        "# **Spam Detector**\n",
        "\n",
        "In this project, the spam detector is built to classify the normal messages (email) and spam messages (email). Several classification algorithms (Naive Bayes, SVM, AdaBoost) will be investigated and compared. The dataset used in this project can be download from https://www.kaggle.com/uciml/sms-spam-collection-dataset"
      ]
    },
    {
      "cell_type": "code",
      "metadata": {
        "id": "WuuvbRmqgbkK"
      },
      "source": [
        "import numpy as np\n",
        "import pandas as pd\n",
        "import matplotlib.pyplot as plt\n",
        "from sklearn.feature_extraction.text import TfidfVectorizer, CountVectorizer\n",
        "from sklearn.feature_extraction.text import TfidfTransformer\n",
        "from sklearn.model_selection import train_test_split\n",
        "from sklearn.linear_model import LogisticRegression\n",
        "from sklearn.naive_bayes import MultinomialNB\n",
        "from sklearn.svm import SVC\n",
        "from sklearn.ensemble import AdaBoostClassifier, RandomForestClassifier\n",
        "from wordcloud import WordCloud\n",
        "from sklearn.feature_selection import chi2\n",
        "from sklearn.model_selection import cross_val_score\n",
        "from sklearn.metrics import confusion_matrix\n",
        "from sklearn import metrics\n",
        "import seaborn as sns # used for plot interactive graph. \n",
        "import matplotlib.pyplot as plt\n",
        "import seaborn as sns"
      ],
      "execution_count": 87,
      "outputs": []
    },
    {
      "cell_type": "markdown",
      "metadata": {
        "id": "5FOA0HyaY5cX"
      },
      "source": [
        "## **Data Pre-processing**"
      ]
    },
    {
      "cell_type": "code",
      "metadata": {
        "id": "0aDJGkOJYe-f"
      },
      "source": [
        "from google.colab import files\n",
        "\n",
        "files.upload()"
      ],
      "execution_count": null,
      "outputs": []
    },
    {
      "cell_type": "code",
      "metadata": {
        "id": "3Mvmx1uxZdS1"
      },
      "source": [
        "df = pd.read_csv('spam.csv', encoding= 'ISO-8859-1')"
      ],
      "execution_count": 3,
      "outputs": []
    },
    {
      "cell_type": "code",
      "metadata": {
        "colab": {
          "base_uri": "https://localhost:8080/",
          "height": 204
        },
        "id": "yPfOJ5DoZxo0",
        "outputId": "4780c558-43b0-43fe-efea-4a7c69035a9a"
      },
      "source": [
        "df.head()"
      ],
      "execution_count": 4,
      "outputs": [
        {
          "output_type": "execute_result",
          "data": {
            "text/html": [
              "<div>\n",
              "<style scoped>\n",
              "    .dataframe tbody tr th:only-of-type {\n",
              "        vertical-align: middle;\n",
              "    }\n",
              "\n",
              "    .dataframe tbody tr th {\n",
              "        vertical-align: top;\n",
              "    }\n",
              "\n",
              "    .dataframe thead th {\n",
              "        text-align: right;\n",
              "    }\n",
              "</style>\n",
              "<table border=\"1\" class=\"dataframe\">\n",
              "  <thead>\n",
              "    <tr style=\"text-align: right;\">\n",
              "      <th></th>\n",
              "      <th>v1</th>\n",
              "      <th>v2</th>\n",
              "      <th>Unnamed: 2</th>\n",
              "      <th>Unnamed: 3</th>\n",
              "      <th>Unnamed: 4</th>\n",
              "    </tr>\n",
              "  </thead>\n",
              "  <tbody>\n",
              "    <tr>\n",
              "      <th>0</th>\n",
              "      <td>ham</td>\n",
              "      <td>Go until jurong point, crazy.. Available only ...</td>\n",
              "      <td>NaN</td>\n",
              "      <td>NaN</td>\n",
              "      <td>NaN</td>\n",
              "    </tr>\n",
              "    <tr>\n",
              "      <th>1</th>\n",
              "      <td>ham</td>\n",
              "      <td>Ok lar... Joking wif u oni...</td>\n",
              "      <td>NaN</td>\n",
              "      <td>NaN</td>\n",
              "      <td>NaN</td>\n",
              "    </tr>\n",
              "    <tr>\n",
              "      <th>2</th>\n",
              "      <td>spam</td>\n",
              "      <td>Free entry in 2 a wkly comp to win FA Cup fina...</td>\n",
              "      <td>NaN</td>\n",
              "      <td>NaN</td>\n",
              "      <td>NaN</td>\n",
              "    </tr>\n",
              "    <tr>\n",
              "      <th>3</th>\n",
              "      <td>ham</td>\n",
              "      <td>U dun say so early hor... U c already then say...</td>\n",
              "      <td>NaN</td>\n",
              "      <td>NaN</td>\n",
              "      <td>NaN</td>\n",
              "    </tr>\n",
              "    <tr>\n",
              "      <th>4</th>\n",
              "      <td>ham</td>\n",
              "      <td>Nah I don't think he goes to usf, he lives aro...</td>\n",
              "      <td>NaN</td>\n",
              "      <td>NaN</td>\n",
              "      <td>NaN</td>\n",
              "    </tr>\n",
              "  </tbody>\n",
              "</table>\n",
              "</div>"
            ],
            "text/plain": [
              "     v1  ... Unnamed: 4\n",
              "0   ham  ...        NaN\n",
              "1   ham  ...        NaN\n",
              "2  spam  ...        NaN\n",
              "3   ham  ...        NaN\n",
              "4   ham  ...        NaN\n",
              "\n",
              "[5 rows x 5 columns]"
            ]
          },
          "metadata": {
            "tags": []
          },
          "execution_count": 4
        }
      ]
    },
    {
      "cell_type": "markdown",
      "metadata": {
        "id": "EfpOwls6bBeO"
      },
      "source": [
        "Change  the column names and convert labels into binary"
      ]
    },
    {
      "cell_type": "code",
      "metadata": {
        "colab": {
          "base_uri": "https://localhost:8080/",
          "height": 204
        },
        "id": "MUlEaZokZ_cM",
        "outputId": "fb28d936-88d3-4440-f3ca-662ffe126dd7"
      },
      "source": [
        "df = df[['v1','v2']]\n",
        "df = df.rename(columns={'v1': 'labels', 'v2': 'text'})\n",
        "df.head()"
      ],
      "execution_count": 5,
      "outputs": [
        {
          "output_type": "execute_result",
          "data": {
            "text/html": [
              "<div>\n",
              "<style scoped>\n",
              "    .dataframe tbody tr th:only-of-type {\n",
              "        vertical-align: middle;\n",
              "    }\n",
              "\n",
              "    .dataframe tbody tr th {\n",
              "        vertical-align: top;\n",
              "    }\n",
              "\n",
              "    .dataframe thead th {\n",
              "        text-align: right;\n",
              "    }\n",
              "</style>\n",
              "<table border=\"1\" class=\"dataframe\">\n",
              "  <thead>\n",
              "    <tr style=\"text-align: right;\">\n",
              "      <th></th>\n",
              "      <th>labels</th>\n",
              "      <th>text</th>\n",
              "    </tr>\n",
              "  </thead>\n",
              "  <tbody>\n",
              "    <tr>\n",
              "      <th>0</th>\n",
              "      <td>ham</td>\n",
              "      <td>Go until jurong point, crazy.. Available only ...</td>\n",
              "    </tr>\n",
              "    <tr>\n",
              "      <th>1</th>\n",
              "      <td>ham</td>\n",
              "      <td>Ok lar... Joking wif u oni...</td>\n",
              "    </tr>\n",
              "    <tr>\n",
              "      <th>2</th>\n",
              "      <td>spam</td>\n",
              "      <td>Free entry in 2 a wkly comp to win FA Cup fina...</td>\n",
              "    </tr>\n",
              "    <tr>\n",
              "      <th>3</th>\n",
              "      <td>ham</td>\n",
              "      <td>U dun say so early hor... U c already then say...</td>\n",
              "    </tr>\n",
              "    <tr>\n",
              "      <th>4</th>\n",
              "      <td>ham</td>\n",
              "      <td>Nah I don't think he goes to usf, he lives aro...</td>\n",
              "    </tr>\n",
              "  </tbody>\n",
              "</table>\n",
              "</div>"
            ],
            "text/plain": [
              "  labels                                               text\n",
              "0    ham  Go until jurong point, crazy.. Available only ...\n",
              "1    ham                      Ok lar... Joking wif u oni...\n",
              "2   spam  Free entry in 2 a wkly comp to win FA Cup fina...\n",
              "3    ham  U dun say so early hor... U c already then say...\n",
              "4    ham  Nah I don't think he goes to usf, he lives aro..."
            ]
          },
          "metadata": {
            "tags": []
          },
          "execution_count": 5
        }
      ]
    },
    {
      "cell_type": "code",
      "metadata": {
        "colab": {
          "base_uri": "https://localhost:8080/",
          "height": 204
        },
        "id": "9vcb3IsHaK5W",
        "outputId": "a7053f97-2a8f-491c-9e6a-7522ed3c81bc"
      },
      "source": [
        "df['labels'] = df['labels'].map({'ham': 0, 'spam': 1})\n",
        "df.head()"
      ],
      "execution_count": 6,
      "outputs": [
        {
          "output_type": "execute_result",
          "data": {
            "text/html": [
              "<div>\n",
              "<style scoped>\n",
              "    .dataframe tbody tr th:only-of-type {\n",
              "        vertical-align: middle;\n",
              "    }\n",
              "\n",
              "    .dataframe tbody tr th {\n",
              "        vertical-align: top;\n",
              "    }\n",
              "\n",
              "    .dataframe thead th {\n",
              "        text-align: right;\n",
              "    }\n",
              "</style>\n",
              "<table border=\"1\" class=\"dataframe\">\n",
              "  <thead>\n",
              "    <tr style=\"text-align: right;\">\n",
              "      <th></th>\n",
              "      <th>labels</th>\n",
              "      <th>text</th>\n",
              "    </tr>\n",
              "  </thead>\n",
              "  <tbody>\n",
              "    <tr>\n",
              "      <th>0</th>\n",
              "      <td>0</td>\n",
              "      <td>Go until jurong point, crazy.. Available only ...</td>\n",
              "    </tr>\n",
              "    <tr>\n",
              "      <th>1</th>\n",
              "      <td>0</td>\n",
              "      <td>Ok lar... Joking wif u oni...</td>\n",
              "    </tr>\n",
              "    <tr>\n",
              "      <th>2</th>\n",
              "      <td>1</td>\n",
              "      <td>Free entry in 2 a wkly comp to win FA Cup fina...</td>\n",
              "    </tr>\n",
              "    <tr>\n",
              "      <th>3</th>\n",
              "      <td>0</td>\n",
              "      <td>U dun say so early hor... U c already then say...</td>\n",
              "    </tr>\n",
              "    <tr>\n",
              "      <th>4</th>\n",
              "      <td>0</td>\n",
              "      <td>Nah I don't think he goes to usf, he lives aro...</td>\n",
              "    </tr>\n",
              "  </tbody>\n",
              "</table>\n",
              "</div>"
            ],
            "text/plain": [
              "   labels                                               text\n",
              "0       0  Go until jurong point, crazy.. Available only ...\n",
              "1       0                      Ok lar... Joking wif u oni...\n",
              "2       1  Free entry in 2 a wkly comp to win FA Cup fina...\n",
              "3       0  U dun say so early hor... U c already then say...\n",
              "4       0  Nah I don't think he goes to usf, he lives aro..."
            ]
          },
          "metadata": {
            "tags": []
          },
          "execution_count": 6
        }
      ]
    },
    {
      "cell_type": "markdown",
      "metadata": {
        "id": "ntskQU_jlyku"
      },
      "source": [
        "## **TF-IDF Feature Generation**\n",
        "\n",
        "The TF-IDF is used to generate the feature vector.\n",
        "\n",
        "[Term frequency–inverse document frequency (TF-IDF)](https://en.wikipedia.org/wiki/Tf%E2%80%93idf) is a numerical statistic that is intended to reflect how important a word is to a document in a collection or corpus.\n",
        "\n",
        "TF: Term Frequency, which measures how frequently a term occurs in a document. Since every document is different in length, it is possible that a term would appear much more times in long documents than shorter ones. Thus, the term frequency is often divided by the document length as a way of normalization.\n",
        "\n",
        "\\begin{equation*}\n",
        "TF(t) = \\frac{count_{t,d}}{count_{t,d_{total}}}\n",
        "\\end{equation*}\n",
        "\n",
        "where $t$ is the term, $count_{t,d}$ is the number of term $t$ appears in the document $d$, $count_{t,d_{total}}$ is the total number of term $t$ appears in all of the documents.\n",
        "\n",
        "IDF: Inverse Document Frequency, which measures how important a term is. While computing TF, all terms are considered equally important. However it is known that certain terms, such as \"is\", \"of\", and \"that\", may appear a lot of times but have little importance. Thus we need to weigh down the frequent terms while scale up the rare ones, by computing the following:\n",
        "\n",
        "\\begin{equation*}\n",
        "IDF(t) = ln(\\frac{N}{N_{t}})\n",
        "\\end{equation*}\n",
        "\n",
        "where $N$ is the total number of documents, $N_{t}$ is the number of documents with term $t$ in it.\n",
        "\n",
        "So the TF-IDF is the multiplication of TF and IDF\n",
        "\n",
        "\\begin{equation*}\n",
        "TFIDF(t) = TF(t)IDF(t)\n",
        "\\end{equation*}"
      ]
    },
    {
      "cell_type": "markdown",
      "metadata": {
        "id": "DMbugR6MueF0"
      },
      "source": [
        "Fortunately, the scikit-learn can gnerate tf-idf directly by using *TfidfVectorizer* package.\n",
        "\n",
        "TfidfVectorizer class can be initialized with the following parameters:\n",
        "\n",
        "*   `min_df`: remove the words from the vocabulary which have occurred in less than `min_df` number of files.\n",
        "*   `max_df`: remove the words from the vocabulary which have occurred in more than `max_df`: total number of files in corpus.\n",
        "*   `sublinear_tf`: set to True to scale the term frequency in logarithmic scale.\n",
        "*   `stop_words`: remove the predefined stop words in 'english'.\n",
        "*   `use_idf`: weight factor must use inverse document frequency.\n",
        "*    `ngram_range`: (1, 2) to indicate that unigrams and bigrams will be considered."
      ]
    },
    {
      "cell_type": "markdown",
      "metadata": {
        "id": "2ZEGJ-GGDBvB"
      },
      "source": [
        "### **Analyze the data**"
      ]
    },
    {
      "cell_type": "code",
      "metadata": {
        "id": "zN6xeSITDADk"
      },
      "source": [
        "tfidfall = TfidfVectorizer(max_df=0.5, decode_error='ignore', ngram_range=(1,2))\n",
        "features = tfidfall.fit_transform(df.text)\n",
        "labels = df.labels"
      ],
      "execution_count": 17,
      "outputs": []
    },
    {
      "cell_type": "code",
      "metadata": {
        "colab": {
          "base_uri": "https://localhost:8080/"
        },
        "id": "lvVAQ5B5DHL8",
        "outputId": "faf408fd-7e0e-4afa-8699-4efc8213d294"
      },
      "source": [
        "# Finding the ten most correlated terms with each of the labels\n",
        "N = 10\n",
        "\n",
        "features_chi2 = chi2(features, labels)\n",
        "indices = np.argsort(features_chi2[0])\n",
        "feature_names = np.array(tfidfall.get_feature_names())[indices]\n",
        "unigrams = [v for v in feature_names if len(v.split(' ')) == 1]\n",
        "bigrams = [v for v in feature_names if len(v.split(' ')) == 2]\n",
        "\n",
        "print(\"  * Most Correlated Unigrams are: %s\" %(', '.join(unigrams[-N:])))\n",
        "print(\"  * Most Correlated Bigrams are: %s\" %(', '.join(bigrams[-N:])))"
      ],
      "execution_count": 19,
      "outputs": [
        {
          "output_type": "stream",
          "text": [
            "  * Most Correlated Unigrams are: stop, 150p, uk, call, www, mobile, prize, free, claim, txt\n",
            "  * Most Correlated Bigrams are: 1000 cash, stop to, please call, cash or, you have, to contact, co uk, to claim, your mobile, have won\n"
          ],
          "name": "stdout"
        }
      ]
    },
    {
      "cell_type": "markdown",
      "metadata": {
        "id": "hLoFn9kp4GPK"
      },
      "source": [
        "Alternatively, the feature vector can also be represented by simply the count of each term."
      ]
    },
    {
      "cell_type": "code",
      "metadata": {
        "id": "kqF7E12y4Voh"
      },
      "source": [
        "count_vectorizer = CountVectorizer(decode_error='ignore',max_df=0.5, ngram_range=(1,2))\n",
        "featurescnt = count_vectorizer.fit_transform(tfidfall)"
      ],
      "execution_count": 29,
      "outputs": []
    },
    {
      "cell_type": "markdown",
      "metadata": {
        "id": "pSKfZZp85Pg-"
      },
      "source": [
        "## **Classification Models**\n",
        "\n",
        "The classification models will be evaluated are:\n",
        "\n",
        "* Logistic Regression\n",
        "* Linear and Kernel Support Vector Machine\n",
        "* Multinomial Naive Bayes\n",
        "* Random Forest\n",
        "* AdaBoost"
      ]
    },
    {
      "cell_type": "code",
      "metadata": {
        "id": "EFOHMy1-NVNi"
      },
      "source": [
        "models = [\n",
        "          LogisticRegression(random_state=0),\n",
        "          SVC(kernel='linear', random_state=0),\n",
        "          SVC(kernel='rbf', random_state=0),\n",
        "          MultinomialNB(),\n",
        "          RandomForestClassifier(n_estimators=100, max_depth=5, random_state=0),\n",
        "          AdaBoostClassifier(n_estimators=100, random_state=0)\n",
        "]"
      ],
      "execution_count": 44,
      "outputs": []
    },
    {
      "cell_type": "code",
      "metadata": {
        "id": "qn1ZF1IkNV0w"
      },
      "source": [
        "# set 5 cross-validation\n",
        "CV = 5\n",
        "cv_df = pd.DataFrame(index = range(CV * len(models)))"
      ],
      "execution_count": 45,
      "outputs": []
    },
    {
      "cell_type": "code",
      "metadata": {
        "id": "iCaEuzFpNWRy"
      },
      "source": [
        "entries=  []\n",
        "for model in models:\n",
        "  model_name = model.__class__.__name__\n",
        "  if model_name == 'SVC':\n",
        "    model_name = model_name + ' ({})'.format(model.kernel)\n",
        "  accuracies = cross_val_score(model, features, labels, scoring='accuracy', cv=CV,)\n",
        "  for fold_idx, accuracy in enumerate(accuracies):\n",
        "    entries.append((model_name, fold_idx, accuracy))"
      ],
      "execution_count": 46,
      "outputs": []
    },
    {
      "cell_type": "code",
      "metadata": {
        "colab": {
          "base_uri": "https://localhost:8080/",
          "height": 979
        },
        "id": "H2DNsa0rNWe-",
        "outputId": "8b988adc-3322-4036-8bea-6135e8f94feb"
      },
      "source": [
        "cv_df = pd.DataFrame(entries, columns=['model_name', 'fold_idx', 'accuracy'])\n",
        "cv_df"
      ],
      "execution_count": 47,
      "outputs": [
        {
          "output_type": "execute_result",
          "data": {
            "text/html": [
              "<div>\n",
              "<style scoped>\n",
              "    .dataframe tbody tr th:only-of-type {\n",
              "        vertical-align: middle;\n",
              "    }\n",
              "\n",
              "    .dataframe tbody tr th {\n",
              "        vertical-align: top;\n",
              "    }\n",
              "\n",
              "    .dataframe thead th {\n",
              "        text-align: right;\n",
              "    }\n",
              "</style>\n",
              "<table border=\"1\" class=\"dataframe\">\n",
              "  <thead>\n",
              "    <tr style=\"text-align: right;\">\n",
              "      <th></th>\n",
              "      <th>model_name</th>\n",
              "      <th>fold_idx</th>\n",
              "      <th>accuracy</th>\n",
              "    </tr>\n",
              "  </thead>\n",
              "  <tbody>\n",
              "    <tr>\n",
              "      <th>0</th>\n",
              "      <td>LogisticRegression</td>\n",
              "      <td>0</td>\n",
              "      <td>0.945291</td>\n",
              "    </tr>\n",
              "    <tr>\n",
              "      <th>1</th>\n",
              "      <td>LogisticRegression</td>\n",
              "      <td>1</td>\n",
              "      <td>0.943498</td>\n",
              "    </tr>\n",
              "    <tr>\n",
              "      <th>2</th>\n",
              "      <td>LogisticRegression</td>\n",
              "      <td>2</td>\n",
              "      <td>0.946140</td>\n",
              "    </tr>\n",
              "    <tr>\n",
              "      <th>3</th>\n",
              "      <td>LogisticRegression</td>\n",
              "      <td>3</td>\n",
              "      <td>0.931777</td>\n",
              "    </tr>\n",
              "    <tr>\n",
              "      <th>4</th>\n",
              "      <td>LogisticRegression</td>\n",
              "      <td>4</td>\n",
              "      <td>0.944345</td>\n",
              "    </tr>\n",
              "    <tr>\n",
              "      <th>5</th>\n",
              "      <td>SVC (linear)</td>\n",
              "      <td>0</td>\n",
              "      <td>0.979372</td>\n",
              "    </tr>\n",
              "    <tr>\n",
              "      <th>6</th>\n",
              "      <td>SVC (linear)</td>\n",
              "      <td>1</td>\n",
              "      <td>0.982063</td>\n",
              "    </tr>\n",
              "    <tr>\n",
              "      <th>7</th>\n",
              "      <td>SVC (linear)</td>\n",
              "      <td>2</td>\n",
              "      <td>0.982047</td>\n",
              "    </tr>\n",
              "    <tr>\n",
              "      <th>8</th>\n",
              "      <td>SVC (linear)</td>\n",
              "      <td>3</td>\n",
              "      <td>0.976661</td>\n",
              "    </tr>\n",
              "    <tr>\n",
              "      <th>9</th>\n",
              "      <td>SVC (linear)</td>\n",
              "      <td>4</td>\n",
              "      <td>0.981149</td>\n",
              "    </tr>\n",
              "    <tr>\n",
              "      <th>10</th>\n",
              "      <td>SVC (rbf)</td>\n",
              "      <td>0</td>\n",
              "      <td>0.964126</td>\n",
              "    </tr>\n",
              "    <tr>\n",
              "      <th>11</th>\n",
              "      <td>SVC (rbf)</td>\n",
              "      <td>1</td>\n",
              "      <td>0.962332</td>\n",
              "    </tr>\n",
              "    <tr>\n",
              "      <th>12</th>\n",
              "      <td>SVC (rbf)</td>\n",
              "      <td>2</td>\n",
              "      <td>0.964093</td>\n",
              "    </tr>\n",
              "    <tr>\n",
              "      <th>13</th>\n",
              "      <td>SVC (rbf)</td>\n",
              "      <td>3</td>\n",
              "      <td>0.959605</td>\n",
              "    </tr>\n",
              "    <tr>\n",
              "      <th>14</th>\n",
              "      <td>SVC (rbf)</td>\n",
              "      <td>4</td>\n",
              "      <td>0.964991</td>\n",
              "    </tr>\n",
              "    <tr>\n",
              "      <th>15</th>\n",
              "      <td>MultinomialNB</td>\n",
              "      <td>0</td>\n",
              "      <td>0.947982</td>\n",
              "    </tr>\n",
              "    <tr>\n",
              "      <th>16</th>\n",
              "      <td>MultinomialNB</td>\n",
              "      <td>1</td>\n",
              "      <td>0.946188</td>\n",
              "    </tr>\n",
              "    <tr>\n",
              "      <th>17</th>\n",
              "      <td>MultinomialNB</td>\n",
              "      <td>2</td>\n",
              "      <td>0.946140</td>\n",
              "    </tr>\n",
              "    <tr>\n",
              "      <th>18</th>\n",
              "      <td>MultinomialNB</td>\n",
              "      <td>3</td>\n",
              "      <td>0.933573</td>\n",
              "    </tr>\n",
              "    <tr>\n",
              "      <th>19</th>\n",
              "      <td>MultinomialNB</td>\n",
              "      <td>4</td>\n",
              "      <td>0.942549</td>\n",
              "    </tr>\n",
              "    <tr>\n",
              "      <th>20</th>\n",
              "      <td>RandomForestClassifier</td>\n",
              "      <td>0</td>\n",
              "      <td>0.865471</td>\n",
              "    </tr>\n",
              "    <tr>\n",
              "      <th>21</th>\n",
              "      <td>RandomForestClassifier</td>\n",
              "      <td>1</td>\n",
              "      <td>0.865471</td>\n",
              "    </tr>\n",
              "    <tr>\n",
              "      <th>22</th>\n",
              "      <td>RandomForestClassifier</td>\n",
              "      <td>2</td>\n",
              "      <td>0.866248</td>\n",
              "    </tr>\n",
              "    <tr>\n",
              "      <th>23</th>\n",
              "      <td>RandomForestClassifier</td>\n",
              "      <td>3</td>\n",
              "      <td>0.866248</td>\n",
              "    </tr>\n",
              "    <tr>\n",
              "      <th>24</th>\n",
              "      <td>RandomForestClassifier</td>\n",
              "      <td>4</td>\n",
              "      <td>0.867145</td>\n",
              "    </tr>\n",
              "    <tr>\n",
              "      <th>25</th>\n",
              "      <td>AdaBoostClassifier</td>\n",
              "      <td>0</td>\n",
              "      <td>0.982063</td>\n",
              "    </tr>\n",
              "    <tr>\n",
              "      <th>26</th>\n",
              "      <td>AdaBoostClassifier</td>\n",
              "      <td>1</td>\n",
              "      <td>0.985650</td>\n",
              "    </tr>\n",
              "    <tr>\n",
              "      <th>27</th>\n",
              "      <td>AdaBoostClassifier</td>\n",
              "      <td>2</td>\n",
              "      <td>0.978456</td>\n",
              "    </tr>\n",
              "    <tr>\n",
              "      <th>28</th>\n",
              "      <td>AdaBoostClassifier</td>\n",
              "      <td>3</td>\n",
              "      <td>0.978456</td>\n",
              "    </tr>\n",
              "    <tr>\n",
              "      <th>29</th>\n",
              "      <td>AdaBoostClassifier</td>\n",
              "      <td>4</td>\n",
              "      <td>0.973968</td>\n",
              "    </tr>\n",
              "  </tbody>\n",
              "</table>\n",
              "</div>"
            ],
            "text/plain": [
              "                model_name  fold_idx  accuracy\n",
              "0       LogisticRegression         0  0.945291\n",
              "1       LogisticRegression         1  0.943498\n",
              "2       LogisticRegression         2  0.946140\n",
              "3       LogisticRegression         3  0.931777\n",
              "4       LogisticRegression         4  0.944345\n",
              "5             SVC (linear)         0  0.979372\n",
              "6             SVC (linear)         1  0.982063\n",
              "7             SVC (linear)         2  0.982047\n",
              "8             SVC (linear)         3  0.976661\n",
              "9             SVC (linear)         4  0.981149\n",
              "10               SVC (rbf)         0  0.964126\n",
              "11               SVC (rbf)         1  0.962332\n",
              "12               SVC (rbf)         2  0.964093\n",
              "13               SVC (rbf)         3  0.959605\n",
              "14               SVC (rbf)         4  0.964991\n",
              "15           MultinomialNB         0  0.947982\n",
              "16           MultinomialNB         1  0.946188\n",
              "17           MultinomialNB         2  0.946140\n",
              "18           MultinomialNB         3  0.933573\n",
              "19           MultinomialNB         4  0.942549\n",
              "20  RandomForestClassifier         0  0.865471\n",
              "21  RandomForestClassifier         1  0.865471\n",
              "22  RandomForestClassifier         2  0.866248\n",
              "23  RandomForestClassifier         3  0.866248\n",
              "24  RandomForestClassifier         4  0.867145\n",
              "25      AdaBoostClassifier         0  0.982063\n",
              "26      AdaBoostClassifier         1  0.985650\n",
              "27      AdaBoostClassifier         2  0.978456\n",
              "28      AdaBoostClassifier         3  0.978456\n",
              "29      AdaBoostClassifier         4  0.973968"
            ]
          },
          "metadata": {
            "tags": []
          },
          "execution_count": 47
        }
      ]
    },
    {
      "cell_type": "markdown",
      "metadata": {
        "id": "m9sjo13XnHVI"
      },
      "source": [
        "Group the classifier and calculate the mean of their accuracy."
      ]
    },
    {
      "cell_type": "code",
      "metadata": {
        "colab": {
          "base_uri": "https://localhost:8080/",
          "height": 266
        },
        "id": "0Ny8Jc2RNWHi",
        "outputId": "37b93293-1846-4f16-fc0b-f8d5940fe8d6"
      },
      "source": [
        "mean_accuracy = cv_df.groupby(['model_name']).accuracy.mean()\n",
        "std_accuracy = cv_df.groupby(['model_name']).accuracy.std()\n",
        "\n",
        "accdf = pd.concat([mean_accuracy, std_accuracy], axis=1, ignore_index=True)\n",
        "\n",
        "accdf.columns = ['Mean Accuray', 'STD Accuracy']\n",
        "accdf"
      ],
      "execution_count": 50,
      "outputs": [
        {
          "output_type": "execute_result",
          "data": {
            "text/html": [
              "<div>\n",
              "<style scoped>\n",
              "    .dataframe tbody tr th:only-of-type {\n",
              "        vertical-align: middle;\n",
              "    }\n",
              "\n",
              "    .dataframe tbody tr th {\n",
              "        vertical-align: top;\n",
              "    }\n",
              "\n",
              "    .dataframe thead th {\n",
              "        text-align: right;\n",
              "    }\n",
              "</style>\n",
              "<table border=\"1\" class=\"dataframe\">\n",
              "  <thead>\n",
              "    <tr style=\"text-align: right;\">\n",
              "      <th></th>\n",
              "      <th>Mean Accuray</th>\n",
              "      <th>STD Accuracy</th>\n",
              "    </tr>\n",
              "    <tr>\n",
              "      <th>model_name</th>\n",
              "      <th></th>\n",
              "      <th></th>\n",
              "    </tr>\n",
              "  </thead>\n",
              "  <tbody>\n",
              "    <tr>\n",
              "      <th>AdaBoostClassifier</th>\n",
              "      <td>0.979719</td>\n",
              "      <td>0.004386</td>\n",
              "    </tr>\n",
              "    <tr>\n",
              "      <th>LogisticRegression</th>\n",
              "      <td>0.942210</td>\n",
              "      <td>0.005916</td>\n",
              "    </tr>\n",
              "    <tr>\n",
              "      <th>MultinomialNB</th>\n",
              "      <td>0.943287</td>\n",
              "      <td>0.005777</td>\n",
              "    </tr>\n",
              "    <tr>\n",
              "      <th>RandomForestClassifier</th>\n",
              "      <td>0.866117</td>\n",
              "      <td>0.000694</td>\n",
              "    </tr>\n",
              "    <tr>\n",
              "      <th>SVC (linear)</th>\n",
              "      <td>0.980258</td>\n",
              "      <td>0.002290</td>\n",
              "    </tr>\n",
              "    <tr>\n",
              "      <th>SVC (rbf)</th>\n",
              "      <td>0.963029</td>\n",
              "      <td>0.002144</td>\n",
              "    </tr>\n",
              "  </tbody>\n",
              "</table>\n",
              "</div>"
            ],
            "text/plain": [
              "                        Mean Accuray  STD Accuracy\n",
              "model_name                                        \n",
              "AdaBoostClassifier          0.979719      0.004386\n",
              "LogisticRegression          0.942210      0.005916\n",
              "MultinomialNB               0.943287      0.005777\n",
              "RandomForestClassifier      0.866117      0.000694\n",
              "SVC (linear)                0.980258      0.002290\n",
              "SVC (rbf)                   0.963029      0.002144"
            ]
          },
          "metadata": {
            "tags": []
          },
          "execution_count": 50
        }
      ]
    },
    {
      "cell_type": "code",
      "metadata": {
        "colab": {
          "base_uri": "https://localhost:8080/",
          "height": 531
        },
        "id": "T12FpjNtNVnY",
        "outputId": "eefd84cf-a472-472e-d81e-9db30da76f40"
      },
      "source": [
        "plt.figure(figsize=(12,8))\n",
        "sns.boxplot(x='model_name', y='accuracy', \n",
        "            data=cv_df, \n",
        "            color='lightblue', \n",
        "            showmeans=True)\n",
        "plt.title(\"MEAN ACCURACY (cv = 5)\\n\", size=14);"
      ],
      "execution_count": 53,
      "outputs": [
        {
          "output_type": "display_data",
          "data": {
            "image/png": "[encoded data removed]",
            "text/plain": [
              "<Figure size 864x576 with 1 Axes>"
            ]
          },
          "metadata": {
            "tags": [],
            "needs_background": "light"
          }
        }
      ]
    },
    {
      "cell_type": "markdown",
      "metadata": {
        "id": "NI0DCML8pXms"
      },
      "source": [
        "From  the accuracy figure, the SVM with linear kernel has the best performance. Next, use the training set and test set to evaluate the model.\n",
        "\n",
        "Split the dataset into training set and test set."
      ]
    },
    {
      "cell_type": "code",
      "metadata": {
        "id": "p0vW4rCfDe0y"
      },
      "source": [
        "Xdftrain, Xdftest, Ydftrain, Ydftest = train_test_split(features, labels, test_size=0.33, random_state=1)\n",
        "SVMmodel = SVC(kernel='linear')\n",
        "SVMmodel.fit(Xdftrain, Ydftrain)\n",
        "y_pred_LinearSVM = SVMmodel.predict(Xdftest)"
      ],
      "execution_count": 102,
      "outputs": []
    },
    {
      "cell_type": "markdown",
      "metadata": {
        "id": "0MfCO6pz2P47"
      },
      "source": [
        "### **Precision, Recall and F1 Score**"
      ]
    },
    {
      "cell_type": "code",
      "metadata": {
        "colab": {
          "base_uri": "https://localhost:8080/"
        },
        "id": "4afvmheJDsRq",
        "outputId": "e479ac38-18b7-4aa5-9a8a-10c0a37d07c2"
      },
      "source": [
        "print('\\t\\t\\t\\tCLASSIFICATIION METRICS\\n')\n",
        "print(metrics.classification_report(Ydftest, y_pred_LinearSVM))"
      ],
      "execution_count": 103,
      "outputs": [
        {
          "output_type": "stream",
          "text": [
            "\t\t\t\tCLASSIFICATIION METRICS\n",
            "\n",
            "              precision    recall  f1-score   support\n",
            "\n",
            "           0       0.98      1.00      0.99      1598\n",
            "           1       1.00      0.84      0.91       241\n",
            "\n",
            "    accuracy                           0.98      1839\n",
            "   macro avg       0.99      0.92      0.95      1839\n",
            "weighted avg       0.98      0.98      0.98      1839\n",
            "\n"
          ],
          "name": "stdout"
        }
      ]
    },
    {
      "cell_type": "code",
      "metadata": {
        "id": "WGACF9X0tQkv"
      },
      "source": [
        "Xdftrain, Xdftest, Ydftrain, Ydftest = train_test_split(features, labels, test_size=0.33, random_state=1)\n",
        "Adamodel = AdaBoostClassifier(n_estimators=300)\n",
        "Adamodel.fit(Xdftrain, Ydftrain)\n",
        "y_pred_AdaBoost = Adamodel.predict(Xdftest)"
      ],
      "execution_count": 109,
      "outputs": []
    },
    {
      "cell_type": "code",
      "metadata": {
        "colab": {
          "base_uri": "https://localhost:8080/"
        },
        "id": "1njvfZQ0Uwzc",
        "outputId": "da9f6e25-dd19-4ae9-dddc-bcffc3c4673e"
      },
      "source": [
        "print('\\t\\t\\t\\tCLASSIFICATIION METRICS\\n')\n",
        "print(metrics.classification_report(Ydftest, y_pred_AdaBoost))"
      ],
      "execution_count": 110,
      "outputs": [
        {
          "output_type": "stream",
          "text": [
            "\t\t\t\tCLASSIFICATIION METRICS\n",
            "\n",
            "              precision    recall  f1-score   support\n",
            "\n",
            "           0       0.98      1.00      0.99      1598\n",
            "           1       0.98      0.89      0.93       241\n",
            "\n",
            "    accuracy                           0.98      1839\n",
            "   macro avg       0.98      0.94      0.96      1839\n",
            "weighted avg       0.98      0.98      0.98      1839\n",
            "\n"
          ],
          "name": "stdout"
        }
      ]
    },
    {
      "cell_type": "markdown",
      "metadata": {
        "id": "Q_HunHJA2IwG"
      },
      "source": [
        "Noted that the model performs better on non-spam data, since the dataset is un-balanced with more support on leabel 0, which leads to less training samples for spam text."
      ]
    },
    {
      "cell_type": "markdown",
      "metadata": {
        "id": "iGGiUJAS2Xvj"
      },
      "source": [
        "### **Confusion Matrix**\n"
      ]
    },
    {
      "cell_type": "code",
      "metadata": {
        "colab": {
          "base_uri": "https://localhost:8080/",
          "height": 315
        },
        "id": "9HYWAr4WrO3G",
        "outputId": "e4bbab7a-e975-479d-bd91-84a20b796d06"
      },
      "source": [
        "conf_mat = confusion_matrix(Ydftest, y_pred_LinearSVM)\n",
        "fig, ax = plt.subplots(figsize=(6,4))\n",
        "sns.heatmap(conf_mat, annot=True, cmap=\"Blues\", fmt='d',\n",
        "            xticklabels=['Ham', 'Spam'], \n",
        "            yticklabels=['Ham', 'Spam'])\n",
        "plt.ylabel('Actual')\n",
        "plt.xlabel('Predicted')\n",
        "plt.title(\"CONFUSION MATRIX - LinearSVM\\n\", size=16);"
      ],
      "execution_count": 111,
      "outputs": [
        {
          "output_type": "display_data",
          "data": {
            "image/png": "[encoded data removed]",
            "text/plain": [
              "<Figure size 432x288 with 2 Axes>"
            ]
          },
          "metadata": {
            "tags": [],
            "needs_background": "light"
          }
        }
      ]
    },
    {
      "cell_type": "code",
      "metadata": {
        "colab": {
          "base_uri": "https://localhost:8080/",
          "height": 315
        },
        "id": "9vOZvWBf2v1z",
        "outputId": "1c410088-40fd-4b49-d084-af28d66b6dbc"
      },
      "source": [
        "conf_mat = confusion_matrix(Ydftest, y_pred_AdaBoost)\n",
        "fig, ax = plt.subplots(figsize=(6,4))\n",
        "sns.heatmap(conf_mat, annot=True, cmap=\"Blues\", fmt='d',\n",
        "            xticklabels=['Ham', 'Spam'], \n",
        "            yticklabels=['Ham', 'Spam'])\n",
        "plt.ylabel('Actual')\n",
        "plt.xlabel('Predicted')\n",
        "plt.title(\"CONFUSION MATRIX - LinearSVM\\n\", size=16);"
      ],
      "execution_count": 112,
      "outputs": [
        {
          "output_type": "display_data",
          "data": {
            "image/png": "[encoded data removed]",
            "text/plain": [
              "<Figure size 432x288 with 2 Axes>"
            ]
          },
          "metadata": {
            "tags": [],
            "needs_background": "light"
          }
        }
      ]
    },
    {
      "cell_type": "markdown",
      "metadata": {
        "id": "8Q0jBGSp4y3r"
      },
      "source": [
        "## **Conclusion**\n",
        "\n",
        "In this Spam Detector project, the classification models include Logistic Regression, Linear and Kernel Support Vector Machine, Multinomial Naive Bayes, Random Forest and AdaBoost are evaluated, among these models, the Linear kernel SVM and AdaBoost has the best accuracy, as well as precision, recall and f1-score. However, once these two models are utimlized to classify the Spam messages for unseen data (test set), the Linear SVM has better performance, since from the comfusion matrices of these two models show that for AdaBoost model, there are few examples of non-spam messages have classified as spam messages, while Linear SVM has no such mistake. In this paticular application, the linear SVM is more reliable."
      ]
    }
  ]
}