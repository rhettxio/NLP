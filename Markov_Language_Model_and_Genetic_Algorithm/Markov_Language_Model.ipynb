{
  "nbformat": 4,
  "nbformat_minor": 0,
  "metadata": {
    "colab": {
      "name": "Markov Language Model.ipynb",
      "provenance": [],
      "collapsed_sections": [],
      "toc_visible": true
    },
    "kernelspec": {
      "name": "python3",
      "display_name": "Python 3"
    }
  },
  "cells": [
    {
      "cell_type": "markdown",
      "metadata": {
        "id": "5rAJU1PEZvm8"
      },
      "source": [
        "# **Markov Language Model**\n",
        "\n",
        "The purpose of this project is to randomly generate a codebook, by using which the normal English messages are encoded into a cipher. Then based on the cipher just generated, implement markov model with maximum likelihood estimation as well as genetic algorithm to training and find the decodebook, such that the cipher would be decoded to the original message."
      ]
    },
    {
      "cell_type": "code",
      "metadata": {
        "id": "gNqfhSlQZkXQ"
      },
      "source": [
        "import numpy as np\n",
        "import matplotlib.pyplot as plt\n",
        "import string\n",
        "import random\n",
        "import requests\n",
        "import re\n",
        "import os\n",
        "import textwrap"
      ],
      "execution_count": 2,
      "outputs": []
    },
    {
      "cell_type": "markdown",
      "metadata": {
        "id": "3rDn2wDYbGPR"
      },
      "source": [
        "## **Create codebook**\n",
        "Now, randomly generate a codebook to encode English words. the codebook is constrained by:\n",
        "<br>\n",
        "1. Every letter should appear only once in the codebook.\n",
        "2. Every letter should be one-to-one mapping in the codebook.\n",
        "3. Only consider lowercase letters."
      ]
    },
    {
      "cell_type": "code",
      "metadata": {
        "id": "iQkundE8bBff"
      },
      "source": [
        "# create two lowercase list\n",
        "list1 = list(string.ascii_lowercase)\n",
        "list2 = list(string.ascii_lowercase)"
      ],
      "execution_count": 3,
      "outputs": []
    },
    {
      "cell_type": "code",
      "metadata": {
        "id": "HAUVqHT9cQab",
        "outputId": "10621d03-2029-418a-f2ff-aeb972a16c6c",
        "colab": {
          "base_uri": "https://localhost:8080/"
        }
      },
      "source": [
        "print(list1)"
      ],
      "execution_count": 4,
      "outputs": [
        {
          "output_type": "stream",
          "text": [
            "['a', 'b', 'c', 'd', 'e', 'f', 'g', 'h', 'i', 'j', 'k', 'l', 'm', 'n', 'o', 'p', 'q', 'r', 's', 't', 'u', 'v', 'w', 'x', 'y', 'z']\n"
          ],
          "name": "stdout"
        }
      ]
    },
    {
      "cell_type": "code",
      "metadata": {
        "id": "DFJcqcqycRNA"
      },
      "source": [
        "# Shuffle list2 and create one-to-one mapping to list1 (codebook)\n",
        "random.shuffle(list2)\n",
        "\n",
        "codebook = {key: val for key, val in zip(list1, list2)}"
      ],
      "execution_count": 5,
      "outputs": []
    },
    {
      "cell_type": "code",
      "metadata": {
        "id": "z-FaT2EKdmHK",
        "outputId": "5e091496-2e0c-4e05-bfd3-6859111cc6c7",
        "colab": {
          "base_uri": "https://localhost:8080/"
        }
      },
      "source": [
        "print(codebook)"
      ],
      "execution_count": 6,
      "outputs": [
        {
          "output_type": "stream",
          "text": [
            "{'a': 'q', 'b': 'i', 'c': 'v', 'd': 'z', 'e': 'e', 'f': 'n', 'g': 'h', 'h': 'd', 'i': 'u', 'j': 'a', 'k': 's', 'l': 'x', 'm': 'l', 'n': 'p', 'o': 'c', 'p': 'k', 'q': 'f', 'r': 'g', 's': 'b', 't': 'm', 'u': 'w', 'v': 'o', 'w': 'j', 'x': 'r', 'y': 'y', 'z': 't'}\n"
          ],
          "name": "stdout"
        }
      ]
    },
    {
      "cell_type": "markdown",
      "metadata": {
        "id": "1IMFnuCf-jU4"
      },
      "source": [
        "## **Markov Model**\n",
        "The probalobity of each word can be modeled by using a markov model, with uni-gram (current state) as well as bi-gram model (current state -> next state). Maxmize the log-likelihood of the product of state probability vector and Markov transition matrix.\n",
        "<br>\n",
        "<br>\n",
        "Define functions that update the initial state probability vector once see a word start with a letter ch1, the update the Markov transition matrix according to the order of each letter in this word.\n",
        "<br>\n",
        "<br>\n",
        "The goal is to maximize the likelihood (probability) of the word. (with assumption the next letter only depends on the previous letter)\n",
        "<br>\n",
        "<br>\n",
        "$ max. \\; \\prod_i^n\\ P(letter_i|letter_{i-1}) = P(letter_0)P(letter_1|letter_0)...P(letter_i|letter_{i-1})$\n",
        "<br>\n",
        "<br>\n",
        "Then take the log to handle the small value of likelihood problem (accuracy) The log-likelihood is then become\n",
        "<br>\n",
        "<br>\n",
        "$ max. \\; \\sum_i^n\\ log\\:P(letter_i|letter_{i-1}) = log\\:P(letter_0) +\\:log\\:P(letter_1|letter_0)...+\\:log\\:P(letter_i|letter_{i-1})$\n"
      ]
    },
    {
      "cell_type": "code",
      "metadata": {
        "id": "Obp5Rh9QdmdQ"
      },
      "source": [
        "# initialize previous state probability vector and markov transition matrix\n",
        "\n",
        "# current state probability vector\n",
        "pi = np.zeros(26)\n",
        "\n",
        "# markov transition matrix\n",
        "M = np.ones((26,26))\n",
        "\n",
        "# update the current state probability distribution (count of current letter ch --- uni-gram)\n",
        "def update_state(pi, ch):\n",
        "  # get the integer representation of a letter ch\n",
        "  i = ord(ch) - ord('a')\n",
        "  pi[i] += 1\n",
        "  return pi\n",
        "\n",
        "# update Markov matrix (count of consecutive letter ch1,ch2 --- bi-gram)\n",
        "def update_Markov_matrix(M, ch1, ch2):\n",
        "  # get the index of letter ch1 and ch2\n",
        "  i, j = ord(ch1) - ord('a'), ord(ch2) - ord('a')\n",
        "  M[i][j] += 1\n",
        "  return M"
      ],
      "execution_count": 7,
      "outputs": []
    },
    {
      "cell_type": "code",
      "metadata": {
        "id": "nJwg3j1vOxq9"
      },
      "source": [
        "# get the log-likelihood of a word / token\n",
        "def word_log_likelihood(word, pi, M):\n",
        "\n",
        "  i = ord(word[0]) - ord('a')\n",
        "  log_likelihood = np.log(pi[i])\n",
        "\n",
        "  for ch in word[1:]:\n",
        "\n",
        "    j = ord(ch)  - ord('a')\n",
        "\n",
        "    log_likelihood += np.log(M[i,j])\n",
        "    i = j\n",
        "  return log_likelihood\n",
        "\n",
        "# get the log-likelihood of a sequence of words\n",
        "def sequence_log_likelihood(words, pi, M):\n",
        "\n",
        "  if type(words) == str:\n",
        "    words = words.split()\n",
        "\n",
        "  log_likelihood = 0\n",
        "  for word in words:\n",
        "    log_likelihood += word_log_likelihood(word, pi, M)\n",
        "  return log_likelihood\n"
      ],
      "execution_count": 8,
      "outputs": []
    },
    {
      "cell_type": "markdown",
      "metadata": {
        "id": "lQRRuCzYgSlO"
      },
      "source": [
        "## **Model Training**\n",
        "Training the Markov mode by using a a English text file."
      ]
    },
    {
      "cell_type": "code",
      "metadata": {
        "id": "MbTXju-SfS6_",
        "outputId": "75f3df36-5181-47af-e59c-d7b67417f239",
        "colab": {
          "resources": {
            "http://localhost:8080/nbextensions/google.colab/files.js": {
              "data": "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",
              "ok": true,
              "headers": [
                [
                  "content-type",
                  "application/javascript"
                ]
              ],
              "status": 200,
              "status_text": ""
            }
          },
          "base_uri": "https://localhost:8080/",
          "height": 72
        }
      },
      "source": [
        "from google.colab import files\n",
        "\n",
        "# one can get the text from 'https://lazyprogrammer.me/course_files/moby_dick.txt'\n",
        "\n",
        "uploaded = files.upload()"
      ],
      "execution_count": 9,
      "outputs": [
        {
          "output_type": "display_data",
          "data": {
            "text/html": [
              "\n",
              "     <input type=\"file\" id=\"files-e2a3a144-d850-498f-b7fd-12284b712dc4\" name=\"files[]\" multiple disabled\n",
              "        style=\"border:none\" />\n",
              "     <output id=\"result-e2a3a144-d850-498f-b7fd-12284b712dc4\">\n",
              "      Upload widget is only available when the cell has been executed in the\n",
              "      current browser session. Please rerun this cell to enable.\n",
              "      </output>\n",
              "      <script src=\"/nbextensions/google.colab/files.js\"></script> "
            ],
            "text/plain": [
              "<IPython.core.display.HTML object>"
            ]
          },
          "metadata": {
            "tags": []
          }
        },
        {
          "output_type": "stream",
          "text": [
            "Saving moby_dick.txt to moby_dick.txt\n"
          ],
          "name": "stdout"
        }
      ]
    },
    {
      "cell_type": "code",
      "metadata": {
        "id": "AaEE0gcKfbMn"
      },
      "source": [
        "# for replacing non-alpha characters\n",
        "regex = re.compile('[^a-zA-Z]')\n",
        "\n",
        "with open('moby_dick.txt', encoding='UTF-8', errors='ignore') as f:\n",
        "  for line in f:\n",
        "    line = line.rstrip()\n",
        "\n",
        "    # there are blank lines in the file\n",
        "    if line:\n",
        "      line = regex.sub(' ', line) # replace all non-alpha characters with space\n",
        "\n",
        "      # split the tokens in the line and lowercase\n",
        "      tokens = line.lower().split()\n",
        "\n",
        "      for token in tokens:\n",
        "        # update the model\n",
        "\n",
        "        # first letter used to update state probability vector\n",
        "        ch0 = token[0]\n",
        "        pi = update_state(pi, ch0)\n",
        "\n",
        "        # other letters used to update Markov matrix\n",
        "        for ch1 in token[1:]:\n",
        "          M = update_Markov_matrix(M, ch0, ch1)\n",
        "          ch0 = ch1\n",
        "\n",
        "# normalize the probabilities\n",
        "pi /= pi.sum()\n",
        "M /= M.sum(axis=1, keepdims=True)"
      ],
      "execution_count": 11,
      "outputs": []
    },
    {
      "cell_type": "code",
      "metadata": {
        "id": "Yb0U2afEvNB8",
        "outputId": "72637695-5413-42ce-f073-f14a650c8f6d",
        "colab": {
          "base_uri": "https://localhost:8080/"
        }
      },
      "source": [
        "print(pi.sum())\n",
        "print(M.sum(axis=1))"
      ],
      "execution_count": 12,
      "outputs": [
        {
          "output_type": "stream",
          "text": [
            "0.9999999999999999\n",
            "[1. 1. 1. 1. 1. 1. 1. 1. 1. 1. 1. 1. 1. 1. 1. 1. 1. 1. 1. 1. 1. 1. 1. 1.\n",
            " 1. 1.]\n"
          ],
          "name": "stdout"
        }
      ]
    },
    {
      "cell_type": "markdown",
      "metadata": {
        "id": "vzwojI1vvblS"
      },
      "source": [
        "Encode a message by using the codebook generated previously."
      ]
    },
    {
      "cell_type": "code",
      "metadata": {
        "id": "jAH62dZsvDgb"
      },
      "source": [
        "        # this is a random excerpt from Project Gutenberg's\n",
        "# The Adventures of Sherlock Holmes, by Arthur Conan Doyle\n",
        "# https://www.gutenberg.org/ebooks/1661\n",
        "\n",
        "original_message = '''I then lounged down the street and found,\n",
        "as I expected, that there was a mews in a lane which runs down\n",
        "by one wall of the garden. I lent the ostlers a hand in rubbing\n",
        "down their horses, and received in exchange twopence, a glass of\n",
        "half-and-half, two fills of shag tobacco, and as much information\n",
        "as I could desire about Miss Adler, to say nothing of half a dozen\n",
        "other people in the neighbourhood in whom I was not in the least\n",
        "interested, but whose biographies I was compelled to listen to.\n",
        "'''\n",
        "\n",
        "# Away they went, and I was just wondering whether I should not do well\n",
        "# to follow them when up the lane came a neat little landau, the coachman\n",
        "# with his coat only half-buttoned, and his tie under his ear, while all\n",
        "# the tags of his harness were sticking out of the buckles. It hadn't\n",
        "# pulled up before she shot out of the hall door and into it. I only\n",
        "# caught a glimpse of her at the moment, but she was a lovely woman, with\n",
        "# a face that a man might die for.\n",
        "\n",
        "# My cabby drove fast. I don't think I ever drove faster, but the others\n",
        "# were there before us. The cab and the landau with their steaming horses\n",
        "# were in front of the door when I arrived. I paid the man and hurried\n",
        "# into the church. There was not a soul there save the two whom I had\n",
        "# followed and a surpliced clergyman, who seemed to be expostulating with\n",
        "# them. They were all three standing in a knot in front of the altar. I\n",
        "# lounged up the side aisle like any other idler who has dropped into a\n",
        "# church. Suddenly, to my surprise, the three at the altar faced round to\n",
        "# me, and Godfrey Norton came running as hard as he could towards me."
      ],
      "execution_count": 15,
      "outputs": []
    },
    {
      "cell_type": "code",
      "metadata": {
        "id": "SRJe_3dFvkRy"
      },
      "source": [
        "# define an encoding function that encodes a message\n",
        "def encode_func(message):\n",
        "\n",
        "  message = message.lower()\n",
        "\n",
        "  # replace non-alphabetic characters\n",
        "  message = regex.sub(' ', message)\n",
        "\n",
        "  # encoding message\n",
        "  encode_message = []\n",
        "  for ch in message:\n",
        "    if ch in codebook:\n",
        "      encode_ch = codebook[ch]\n",
        "    else:\n",
        "      encode_ch = ch # could just be a space\n",
        "    encode_message.append(encode_ch)\n",
        "\n",
        "  return ''.join(encode_message)\n",
        "\n",
        "# define a decoding function to decodes a message\n",
        "def decode_message(message, decodebook):\n",
        "  decoded_message = []\n",
        "  for ch in message:\n",
        "    if ch in decodebook:\n",
        "      decoded_ch = decodebook[ch]\n",
        "    else:\n",
        "      decoded_ch = ch\n",
        "    decoded_message.append(decoded_ch)\n",
        "\n",
        "  return ''.join(decoded_message)\n"
      ],
      "execution_count": 16,
      "outputs": []
    },
    {
      "cell_type": "code",
      "metadata": {
        "id": "V_Q3am9OxdtM",
        "outputId": "e0b4f2e8-c1b8-4cb6-9ac0-6d50e67cb6b8",
        "colab": {
          "base_uri": "https://localhost:8080/",
          "height": 69
        }
      },
      "source": [
        "encoded_message = encode_func(original_message)\n",
        "encoded_message"
      ],
      "execution_count": 17,
      "outputs": [
        {
          "output_type": "execute_result",
          "data": {
            "application/vnd.google.colaboratory.intrinsic+json": {
              "type": "string"
            },
            "text/plain": [
              "'u mdep xcwphez zcjp mde bmgeem qpz ncwpz  qb u erkevmez  mdqm mdege jqb q lejb up q xqpe jduvd gwpb zcjp iy cpe jqxx cn mde hqgzep  u xepm mde cbmxegb q dqpz up gwiiuph zcjp mdeug dcgbeb  qpz geveuoez up ervdqphe mjckepve  q hxqbb cn dqxn qpz dqxn  mjc nuxxb cn bdqh mciqvvc  qpz qb lwvd upncglqmucp qb u vcwxz zebuge qicwm lubb qzxeg  mc bqy pcmduph cn dqxn q zctep cmdeg keckxe up mde peuhdicwgdccz up jdcl u jqb pcm up mde xeqbm upmegebmez  iwm jdcbe iuchgqkdueb u jqb vclkexxez mc xubmep mc  '"
            ]
          },
          "metadata": {
            "tags": []
          },
          "execution_count": 17
        }
      ]
    },
    {
      "cell_type": "markdown",
      "metadata": {
        "id": "GGKaSrbX1FU7"
      },
      "source": [
        "## **Genetic Algorithm**\n",
        "\n",
        "Use genetic algorithm to find the optimal solution.\n",
        "\n",
        "### **Offspring Evolution**\n",
        "\n",
        "First initialize $N$ random codebook, because the constrain of encoding codebook, the letters are one-to-one mapping and no letter appears more than once. So for each of the $N$ ancestor codebooks, perform a log-likelihood estimation, pick the $K$ best results as the parents of next generation, then for each parent, generate $N/K - 1$ mutant offspring codebooks by simply select one pair of letter, and swap their position. After this add these $K (N/K - 1)$ mutant offsprings to the generation pool. Finally, the total number of codebooks will be $N$ again."
      ]
    },
    {
      "cell_type": "code",
      "metadata": {
        "id": "8mBqVTujz5TL"
      },
      "source": [
        "# Initilize a dna pool of codebooks\n",
        "def dna_pool_init(N):\n",
        "  dna_pool = []\n",
        "  for _ in range(N):\n",
        "    dna = list(string.ascii_lowercase)\n",
        "    random.shuffle(dna)\n",
        "    dna_pool.append(dna)\n",
        "\n",
        "  return dna_pool\n",
        "\n",
        "# generate offspring for each codebook\n",
        "def evolve_offspring(dna_pool, n_children):\n",
        "\n",
        "  offspring = []\n",
        "  for dna in dna_pool:\n",
        "    for _ in range(n_children):\n",
        "      copy_dna = dna.copy()\n",
        "      i, j = np.random.randint(len(copy_dna)), np.random.randint(len(copy_dna))\n",
        "      \n",
        "      # swap the position of pair letters of parent to generate offspring\n",
        "      copy_dna[i], copy_dna[j] = copy_dna[j], copy_dna[i] \n",
        "      offspring.append(copy_dna)\n",
        "\n",
        "  return dna_pool + offspring\n"
      ],
      "execution_count": 18,
      "outputs": []
    },
    {
      "cell_type": "code",
      "metadata": {
        "id": "K3HMiZN_vX9U",
        "outputId": "31689096-9dcc-42f9-838d-0f3a97ba08b8",
        "colab": {
          "base_uri": "https://localhost:8080/"
        }
      },
      "source": [
        "n_iter = 1000\n",
        "N = 20\n",
        "n_children = 10\n",
        "K = N // (n_children + 1)\n",
        "max_score = float('-inf')\n",
        "optimal_decodebook = None\n",
        "scores = np.zeros(n_iter)\n",
        "dna_pool = dna_pool_init(N)\n",
        "\n",
        "\n",
        "for iter in range(n_iter):\n",
        "\n",
        "  dna_score = {}\n",
        "  if iter > 0:\n",
        "    dna_pool = evolve_offspring(dna_pool, n_children)\n",
        "\n",
        "\n",
        "  for dna in dna_pool:\n",
        "    decodebook_test = {key:val for key,val in zip(dna, list1)}\n",
        "    decoded_message = decode_message(encoded_message, decodebook_test)\n",
        "\n",
        "    # get the log_likelihood (score) of decoded message\n",
        "    score = sequence_log_likelihood(decoded_message, pi, M)\n",
        "\n",
        "    # save the current dna and the corresponding score\n",
        "    dna_score[''.join(dna)] = score\n",
        "    if score > max_score:\n",
        "      max_score  = score\n",
        "      optimal_decodebook = decodebook_test\n",
        "\n",
        "  # save the avg score of each iteration\n",
        "  scores[iter] = np.mean(list(dna_score.values()))\n",
        "\n",
        "\n",
        "  # keep the optimal K results, copy their dna (strings) and convert them back to the dna (list)\n",
        "  # use those K dna (list) as the parents of next generation\n",
        "  # use reverse to sort in a descending order\n",
        "  dna_score_sorted = sorted(dna_score.items(), key = lambda x: x[1], reverse=True)\n",
        "  dna_pool = [list(key) for key, val in dna_score_sorted[:K]]\n",
        "\n",
        "\n",
        "  if iter % 200 == 0:\n",
        "    print(\"iteration:\", iter, \"avg score:\", scores[iter], \"max score:\", max_score)\n"
      ],
      "execution_count": 23,
      "outputs": [
        {
          "output_type": "stream",
          "text": [
            "iteration: 0 avg score: -2051.5095620800203 max score: -1643.9792554309429\n",
            "iteration: 200 avg score: -1046.2398603374925 max score: -974.8281334039318\n",
            "iteration: 400 avg score: -1006.6173462616939 max score: -929.3803194298681\n",
            "iteration: 600 avg score: -1064.3742633892227 max score: -929.3803194298681\n",
            "iteration: 800 avg score: -1107.3723186571378 max score: -929.3803194298681\n"
          ],
          "name": "stdout"
        }
      ]
    },
    {
      "cell_type": "code",
      "metadata": {
        "id": "omnhJYSBg-tY",
        "outputId": "79dfe6d2-0d37-4d78-cb29-bd2f29b8903c",
        "colab": {
          "base_uri": "https://localhost:8080/"
        }
      },
      "source": [
        "# use the \n",
        "decoded_message = decode_message(encoded_message, optimal_decodebook)\n",
        "\n",
        "print(\"LL of decoded message:\", sequence_log_likelihood(decoded_message, pi, M))\n",
        "print(\"LL of true message:\", sequence_log_likelihood(regex.sub(' ', original_message.lower()), pi, M))\n",
        "\n",
        "\n",
        "# which letters are wrong?\n",
        "for true, v in codebook.items():\n",
        "  pred = optimal_decodebook[v]\n",
        "  if true != pred:\n",
        "    print(\"true: %s, pred: %s\" % (true, pred))"
      ],
      "execution_count": 24,
      "outputs": [
        {
          "output_type": "stream",
          "text": [
            "LL of decoded message: -929.3803194298681\n",
            "LL of true message: -932.8073149299468\n",
            "true: j, pred: z\n",
            "true: k, pred: q\n",
            "true: q, pred: j\n",
            "true: z, pred: k\n"
          ],
          "name": "stdout"
        }
      ]
    },
    {
      "cell_type": "code",
      "metadata": {
        "id": "kKdh_fRk-5z7",
        "outputId": "ff037a06-2b41-4459-c5d3-d9e73b23191f",
        "colab": {
          "base_uri": "https://localhost:8080/",
          "height": 69
        }
      },
      "source": [
        "decoded_message"
      ],
      "execution_count": 25,
      "outputs": [
        {
          "output_type": "execute_result",
          "data": {
            "application/vnd.google.colaboratory.intrinsic+json": {
              "type": "string"
            },
            "text/plain": [
              "'i then lounged down the street and found  as i expected  that there was a mews in a lane which runs down by one wall of the garden  i lent the ostlers a hand in rubbing down their horses  and received in exchange twopence  a glass of half and half  two fills of shag tobacco  and as much information as i could desire about miss adler  to say nothing of half a doken other people in the neighbourhood in whom i was not in the least interested  but whose biographies i was compelled to listen to  '"
            ]
          },
          "metadata": {
            "tags": []
          },
          "execution_count": 25
        }
      ]
    },
    {
      "cell_type": "code",
      "metadata": {
        "id": "MO-YyiRsliEZ",
        "outputId": "41422c2b-2add-40b7-9e1f-ba889f532ea1",
        "colab": {
          "base_uri": "https://localhost:8080/"
        }
      },
      "source": [
        "# print the final decoded message\n",
        "print(\"Decoded message:\\n\", textwrap.fill(decoded_message))\n",
        "\n",
        "print(\"\\nTrue message:\\n\", original_message)"
      ],
      "execution_count": 21,
      "outputs": [
        {
          "output_type": "stream",
          "text": [
            "Decoded message:\n",
            " i then lounged down the street and found  as i expected  that there\n",
            "was a mews in a lane which runs down by one wall of the garden  i lent\n",
            "the ostlers a hand in rubbing down their horses  and received in\n",
            "exchange twopence  a glass of half and half  two fills of shag tobacco\n",
            "and as much information as i could desire about miss adler  to say\n",
            "nothing of half a doken other people in the neighbourhood in whom i\n",
            "was not in the least interested  but whose biographies i was compelled\n",
            "to listen to\n",
            "\n",
            "True message:\n",
            " I then lounged down the street and found,\n",
            "as I expected, that there was a mews in a lane which runs down\n",
            "by one wall of the garden. I lent the ostlers a hand in rubbing\n",
            "down their horses, and received in exchange twopence, a glass of\n",
            "half-and-half, two fills of shag tobacco, and as much information\n",
            "as I could desire about Miss Adler, to say nothing of half a dozen\n",
            "other people in the neighbourhood in whom I was not in the least\n",
            "interested, but whose biographies I was compelled to listen to.\n",
            "\n"
          ],
          "name": "stdout"
        }
      ]
    },
    {
      "cell_type": "code",
      "metadata": {
        "id": "ST9GTJFjmb6I",
        "outputId": "192bfea8-3e2c-4dac-e4ae-b518776b6e87",
        "colab": {
          "base_uri": "https://localhost:8080/",
          "height": 265
        }
      },
      "source": [
        "plt.plot(scores)\n",
        "plt.show()"
      ],
      "execution_count": 22,
      "outputs": [
        {
          "output_type": "display_data",
          "data": {
            "image/png": "[encoded data removed]",
            "text/plain": [
              "<Figure size 432x288 with 1 Axes>"
            ]
          },
          "metadata": {
            "tags": [],
            "needs_background": "light"
          }
        }
      ]
    },
    {
      "cell_type": "markdown",
      "metadata": {
        "id": "qSLMnP84_Bu8"
      },
      "source": [
        "## **Conclusion**\n",
        "The genetic algorithm provides an approach to find the (local) optimal solution where the objective function is not diffrentiable (thus can not perform a gradiant descend). The algorithm has successfully led the candidates evolved toward to the true result, in this case, the true codebook."
      ]
    }
  ]
}